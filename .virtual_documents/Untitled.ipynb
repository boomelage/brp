import numpy as np
from scipy import interpolate


#Let's create some random  data
array = np.random.randint(0,10,(10,10)).astype(float)
#values grater then 7 goes to np.nan
array[array>7] = np.nan


array



x = np.arange(0, array.shape[1])
y = np.arange(0, array.shape[0])
#mask invalid values
array = np.ma.masked_invalid(array)
xx, yy = np.meshgrid(x, y)
#get only the valid values
x1 = xx[~array.mask]
y1 = yy[~array.mask]
newarr = array[~array.mask]

GD1 = interpolate.griddata((x1, y1), newarr.ravel(),
                          (xx, yy),
                             method='cubic')


GD1




