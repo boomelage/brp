from pathlib import Path
current_dir = Path.cwd()
current_dir


import os
filedir = os.path.join(current_dir,'historical_av_calibrations')
os.chdir(filedir)


Path.cwd()


from model_settings import ms
csvs = ms.csv_query
for i,f in enumerate(csvs):
    print(f"{i}. {f}")


import pandas as pd
df = pd.read_csv(csvs[0])
df = df.iloc[:,1:].copy()


df.describe()


df = df[df['relative_error']<0.2].reset_index(drop=True).copy()
df


df.dtypes


df['calculation_date'] = pd.to_datetime(df['calculation_date'],format="%Y-%m-%d")





import matplotlib.pyplot as plt

plt.figure()
plt.plot(df.set_index('calculation_date')['relative_error'],color='black')
plt.show()
plt.clf()



