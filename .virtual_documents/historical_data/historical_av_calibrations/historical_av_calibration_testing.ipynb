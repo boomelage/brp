from model_settings import ms
csvs = ms.csv_query
for i,f in enumerate(csvs):
    print(f"{i}. {f}")


import pandas as pd
df = pd.read_csv(csvs[0])
df = df.iloc[:,1:].copy()


df.describe()



