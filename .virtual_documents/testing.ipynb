import os
import pandas as pd
import numpy as np
import matplotlib.pyplot as plt


# insample = pd.read_csv(
#     os.path.join(
#         r'2024_10_07 17-55-55 Deep Neural Network 3oosRMSE',
#         r'2024_10_07 17-55-55 Deep Neural Network 3oosRMSE insample_results.csv'
#     )
# )

# outofsample_results = pd.read_csv(
#     os.path.join(
#         r'2024_10_07 17-55-55 Deep Neural Network 3oosRMSE',
#         r'2024_10_07 17-55-55 Deep Neural Network 3oosRMSE outofsample_results.csv'
#     )
# )


from train_main import model_fit, outofsample_results, insample_results


maturities = outofsample_results['days_to_maturity'].unique().tolist()
barrier_type_names = outofsample_results['barrier_type_name'].unique().tolist()
oos_byt = outofsample_results.groupby(by='days_to_maturity')

RMSE = pd.DataFrame(
    np.zeros((len(maturities),len(barrier_type_names)),dtype=float),
    index = maturities,
    columns = barrier_type_names
)
for t in maturities:
    subset = oos_byt.get_group(t)
    for i in barrier_type_names:
        RMSE.loc[t,i] = np.sqrt(np.average(subset['outofsample_error'][subset['barrier_type_name']==i]**2))
print(f"\nRMSE:\n{RMSE}\n")

MAE = pd.DataFrame(
    np.zeros((len(maturities),len(barrier_type_names)),dtype=float),
    index = maturities,
    columns = barrier_type_names
)
for t in maturities:
    subset = oos_byt.get_group(t)
    for i in barrier_type_names:
        MAE.loc[t,i] = np.average(np.abs(subset['outofsample_error'][subset['barrier_type_name']==i]))
print(f"\nMAE:\n{MAE}\n")


plt.figure()
plt.plot(MAE.loc[:, 'DownOut'], label='DownOut')
plt.plot(MAE.loc[:, 'DownIn'], label='DownIn')
plt.plot(MAE.loc[:, 'UpOut'], label='UpOut')
plt.plot(MAE.loc[:, 'UpIn'], label='UpIn')
plt.legend()
plt.show()
plt.close()
