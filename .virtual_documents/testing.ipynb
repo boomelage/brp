import os
import modin.pandas as pd
import numpy as np
import matplotlib.pyplot as plt
import warnings; warnings.filterwarnings("ignore", message=".*defaulting to pandas.*")
os.listdir()


models_path = os.path.join(os.getcwd(),'trained_models')
models = os.listdir(models_path)
for i, path in enumerate(models):
    print(f"{i}   {path}")


model = models[0]
model


model_path = os.path.join(models_path,model)
model_path


model_files = os.listdir(model_path)
model_files


spec_path = os.path.join(model_path,[file for file in model_files if file.endswith('.txt')][0])
spec_path


with open(spec_path, "r") as specs:
    for line in specs:
        print(line.strip())


model_path


model_files


insample_path = os.path.join(model_path,[file for file in model_files if file.find('insample') != -1][0])
insample = pd.read_csv(insample_path).iloc[:,1:]
insample


outsample_path = os.path.join(model_path,[file for file in model_files if file.find('outofsample') != -1][0])
outsample = pd.read_csv(outsample_path).iloc[:,1:]
outsample


maturities = outsample['days_to_maturity'].unique().tolist()
barrier_type_names = outsample['barrier_type_name'].unique().tolist()
ws = outsample['w'].unique().tolist()
print(f"\nmaturities:\n{maturities}")
print(f"\ntypes:\n{barrier_type_names}\n{ws}\n")


by_wbtypet = outsample.copy().set_index(['w','barrier_type_name','days_to_maturity'])

RMSE = pd.DataFrame(
    np.zeros((len(maturities),len(barrier_type_names)),dtype=float),
    index = maturities,
    columns = barrier_type_names
)
for t in maturities:
    for b in barrier_type_names:
        RMSE.loc[t,b] = np.sqrt(np.average((by_wbtypet.loc[(slice(None), b, t),'outofsample_error'])**2))
print(f"\nRMSE:\n{RMSE}")


MAE = pd.DataFrame(
    np.zeros((len(maturities),len(barrier_type_names)),dtype=float),
    index = maturities,
    columns = barrier_type_names
)
for t in maturities:
    for b in barrier_type_names:
        MAE.loc[t,b] = np.average(np.abs(by_wbtypet.loc[(slice(None), b, t),'outofsample_error']))
print(f"\nMAE:\n{MAE}")


plt.figure()
plt.plot(MAE.loc[:, 'DownOut'], label='DownOut')
plt.plot(MAE.loc[:, 'DownIn'], label='DownIn')
plt.plot(MAE.loc[:, 'UpOut'], label='UpOut')
plt.plot(MAE.loc[:, 'UpIn'], label='UpIn')
plt.xlabel('maturities in days')
plt.ylabel('RMSE')
plt.legend()
plt.show()
plt.close()


errors_bypayoff = {}
for w in ws:
    print(f"\n{w}s:"+f"\n{len(f"\n{w}s:")*'-'}")
    RMSE = pd.DataFrame(
        np.zeros((len(maturities),len(barrier_type_names)),dtype=float),
        index = maturities,
        columns = barrier_type_names
        )
    for t in maturities:
        for b in barrier_type_names:
            RMSE.loc[t,b] = np.sqrt(np.average((by_wbtypet.loc[(w, b, t),'outofsample_error'])**2))
    print(f"RMSE:\n{RMSE}")
    RMSE = {'RMSE':RMSE}
    errors_bypayoff[w] = RMSE
    
    MAE = pd.DataFrame(
        np.zeros((len(maturities),len(barrier_type_names)),dtype=float),
        index = maturities,
        columns = barrier_type_names
    )
    for t in maturities:
        for b in barrier_type_names:
            MAE.loc[t,b] = np.average(np.abs(by_wbtypet.loc[(w, b, t),'outofsample_error']))
    print(f"\nMAE:\n{MAE}")
    MAE = {'MAE':MAE}
    errors_bypayoff[w] = MAE


for key, value in errors_bypayoff.items():
    MAE = errors_bypayoff[key]['MAE']
    plt.figure()
    plt.plot(MAE.loc[:, 'DownOut'], label='DownOut')
    plt.plot(MAE.loc[:, 'DownIn'], label='DownIn')
    plt.plot(MAE.loc[:, 'UpOut'], label='UpOut')
    plt.plot(MAE.loc[:, 'UpIn'], label='UpIn')
    plt.title(f"{key}s")
    plt.xlabel('maturities in days')
    plt.ylabel('RMSE')
    plt.legend()
    plt.show()
    plt.close()



